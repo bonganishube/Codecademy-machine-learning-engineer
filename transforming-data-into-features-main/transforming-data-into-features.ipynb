{
 "cells": [
  {
   "cell_type": "code",
   "execution_count": 1,
   "id": "8fcc54c4",
   "metadata": {},
   "outputs": [],
   "source": [
    "#import libraries\n",
    "import pandas as pd\n",
    "import numpy as np\n",
    "from sklearn.preprocessing import StandardScaler"
   ]
  },
  {
   "cell_type": "code",
   "execution_count": 2,
   "id": "34e7ea13",
   "metadata": {},
   "outputs": [],
   "source": [
    "#import data\n",
    "reviews = pd.read_csv('reviews.csv')"
   ]
  },
  {
   "cell_type": "code",
   "execution_count": 3,
   "id": "d66d5ec0",
   "metadata": {},
   "outputs": [
    {
     "name": "stdout",
     "output_type": "stream",
     "text": [
      "Index(['Unnamed: 0', 'Clothing ID', 'Age', 'Title', 'Review Text', 'Rating',\n",
      "       'Recommended IND', 'Positive Feedback Count', 'Division Name',\n",
      "       'Department Name', 'Class Name'],\n",
      "      dtype='object')\n"
     ]
    }
   ],
   "source": [
    "#print column names\n",
    "print(reviews.columns)"
   ]
  },
  {
   "cell_type": "code",
   "execution_count": 4,
   "id": "7ac366bc",
   "metadata": {},
   "outputs": [
    {
     "name": "stdout",
     "output_type": "stream",
     "text": [
      "<class 'pandas.core.frame.DataFrame'>\n",
      "RangeIndex: 23486 entries, 0 to 23485\n",
      "Data columns (total 11 columns):\n",
      " #   Column                   Non-Null Count  Dtype \n",
      "---  ------                   --------------  ----- \n",
      " 0   Unnamed: 0               23486 non-null  int64 \n",
      " 1   Clothing ID              23486 non-null  int64 \n",
      " 2   Age                      23486 non-null  int64 \n",
      " 3   Title                    19676 non-null  object\n",
      " 4   Review Text              22641 non-null  object\n",
      " 5   Rating                   23486 non-null  int64 \n",
      " 6   Recommended IND          23486 non-null  int64 \n",
      " 7   Positive Feedback Count  23486 non-null  int64 \n",
      " 8   Division Name            23472 non-null  object\n",
      " 9   Department Name          23472 non-null  object\n",
      " 10  Class Name               23472 non-null  object\n",
      "dtypes: int64(6), object(5)\n",
      "memory usage: 2.0+ MB\n",
      "None\n"
     ]
    }
   ],
   "source": [
    "#print .info\n",
    "print(reviews.info())"
   ]
  },
  {
   "cell_type": "code",
   "execution_count": 5,
   "id": "c1e097d3",
   "metadata": {},
   "outputs": [
    {
     "name": "stdout",
     "output_type": "stream",
     "text": [
      "Recommended IND\n",
      "1    19314\n",
      "0     4172\n",
      "Name: count, dtype: int64\n"
     ]
    }
   ],
   "source": [
    "#look at the counts of recommended\n",
    "print(reviews['Recommended IND'].value_counts())"
   ]
  },
  {
   "cell_type": "code",
   "execution_count": 6,
   "id": "8382d4de",
   "metadata": {},
   "outputs": [],
   "source": [
    "# #create binary dictionary\n",
    "# binary_dict = {True:1, False:0}\n",
    " \n",
    "# #transform column\n",
    "# reviews['Recommended IND'] = reviews['Recommended IND'].map(binary_dict)\n",
    " \n",
    "# #print your transformed column\n",
    "# print(reviews['Recommended IND'].value_counts())"
   ]
  },
  {
   "cell_type": "code",
   "execution_count": 7,
   "id": "bfd134b4",
   "metadata": {},
   "outputs": [
    {
     "name": "stdout",
     "output_type": "stream",
     "text": [
      "Rating\n",
      "5    13131\n",
      "4     5077\n",
      "3     2871\n",
      "2     1565\n",
      "1      842\n",
      "Name: count, dtype: int64\n"
     ]
    }
   ],
   "source": [
    "#look at the counts of rating\n",
    "print(reviews['Rating'].value_counts())"
   ]
  },
  {
   "cell_type": "code",
   "execution_count": 8,
   "id": "b6e2834e",
   "metadata": {},
   "outputs": [],
   "source": [
    "# #create dictionary\n",
    "# rating_dict = {'Loved it':5, 'Liked it':4, 'Was okay':3, 'Not great':2, 'Hated it':1}\n",
    " \n",
    "# #transform rating column\n",
    "# reviews['Rating'] = reviews['Rating'].map(rating_dict)\n",
    " \n",
    "# #print your transformed column values\n",
    "# print(reviews['Rating'].value_counts())"
   ]
  },
  {
   "cell_type": "code",
   "execution_count": 9,
   "id": "7e9d444d",
   "metadata": {},
   "outputs": [
    {
     "name": "stdout",
     "output_type": "stream",
     "text": [
      "Department Name\n",
      "Tops        10468\n",
      "Dresses      6319\n",
      "Bottoms      3799\n",
      "Intimate     1735\n",
      "Jackets      1032\n",
      "Trend         119\n",
      "Name: count, dtype: int64\n"
     ]
    }
   ],
   "source": [
    "#get the number of categories in a feature\n",
    "print(reviews['Department Name'].value_counts())"
   ]
  },
  {
   "cell_type": "code",
   "execution_count": 10,
   "id": "67e62d34",
   "metadata": {},
   "outputs": [
    {
     "name": "stdout",
     "output_type": "stream",
     "text": [
      "Index(['Unnamed: 0', 'Clothing ID', 'Age', 'Title', 'Review Text', 'Rating',\n",
      "       'Recommended IND', 'Positive Feedback Count', 'Division Name',\n",
      "       'Department Name', 'Class Name', 'Bottoms', 'Dresses', 'Intimate',\n",
      "       'Jackets', 'Tops', 'Trend'],\n",
      "      dtype='object')\n"
     ]
    }
   ],
   "source": [
    "#perform get_dummies\n",
    "one_hot = pd.get_dummies(reviews['Department Name'])\n",
    " \n",
    "#join the new columns back onto the original\n",
    "reviews = reviews.join(one_hot)\n",
    "\n",
    "#print column names\n",
    "print(reviews.columns)"
   ]
  },
  {
   "cell_type": "code",
   "execution_count": 11,
   "id": "6723b786",
   "metadata": {},
   "outputs": [],
   "source": [
    "# #transform review_date to date-time data\n",
    "# reviews['Review Date'] = pd.to_datetime(reviews['review_date'])\n",
    "\n",
    "# #print review_date data type \n",
    "# print(reviews['Review Date'].dtype)"
   ]
  },
  {
   "cell_type": "code",
   "execution_count": 12,
   "id": "b8c2e658",
   "metadata": {},
   "outputs": [],
   "source": [
    "#get numerical columns\n",
    "reviews = reviews[['Clothing ID', 'Age', 'Recommended IND', 'Rating', 'Bottoms', 'Dresses', 'Intimate', 'Jackets', 'Tops', 'Trend']].copy()\n",
    " \n",
    "#reset index\n",
    "reviews = reviews.set_index(reviews['Clothing ID'])"
   ]
  },
  {
   "cell_type": "code",
   "execution_count": 13,
   "id": "015e00c5",
   "metadata": {},
   "outputs": [
    {
     "data": {
      "text/plain": [
       "array([[-0.74334818, -0.83054886,  0.4647678 , ..., -0.21438431,\n",
       "        -0.89672592, -0.07136282],\n",
       "       [ 0.79628898, -0.74911087,  0.4647678 , ..., -0.21438431,\n",
       "        -0.89672592, -0.07136282],\n",
       "       [ 0.78153208,  1.36827674, -2.15161203, ..., -0.21438431,\n",
       "        -0.89672592, -0.07136282],\n",
       "       ...,\n",
       "       [ 0.91434423, -0.99342483, -2.15161203, ..., -0.21438431,\n",
       "        -0.89672592, -0.07136282],\n",
       "       [ 0.81596486, -1.23773878,  0.4647678 , ..., -0.21438431,\n",
       "        -0.89672592, -0.07136282],\n",
       "       [ 0.91434423,  0.71677286,  0.4647678 , ..., -0.21438431,\n",
       "        -0.89672592, -0.07136282]])"
      ]
     },
     "execution_count": 13,
     "metadata": {},
     "output_type": "execute_result"
    }
   ],
   "source": [
    "#instantiate standard scaler\n",
    "scaler = StandardScaler()\n",
    " \n",
    "#fit transform data\n",
    "scaler.fit_transform(reviews)"
   ]
  }
 ],
 "metadata": {
  "kernelspec": {
   "display_name": "Python 3 (ipykernel)",
   "language": "python",
   "name": "python3"
  },
  "language_info": {
   "codemirror_mode": {
    "name": "ipython",
    "version": 3
   },
   "file_extension": ".py",
   "mimetype": "text/x-python",
   "name": "python",
   "nbconvert_exporter": "python",
   "pygments_lexer": "ipython3",
   "version": "3.11.5"
  }
 },
 "nbformat": 4,
 "nbformat_minor": 5
}
